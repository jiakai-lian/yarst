{
 "cells": [
  {
   "cell_type": "code",
   "execution_count": 1,
   "metadata": {},
   "outputs": [],
   "source": [
    "from __future__ import division\n",
    "from __future__ import print_function \n",
    "from IPython.core.interactiveshell import InteractiveShell\n",
    "InteractiveShell.ast_node_interactivity = \"all\"\n",
    "\n",
    "\n",
    "import pandas as pd\n",
    "import numpy as np \n",
    "\n",
    "from sklearn.preprocessing import LabelEncoder\n",
    "from yarst.model_selection import TrainTestSplit\n",
    "from yarst.model import StochasticGradientDescent,AlternatingLeastSquare,CollaborativeFiltering\n",
    "from yarst.model import Recommender\n",
    "from yarst.metrics import mae,mse\n",
    "# set seed to repeat the task\n",
    "\n",
    "seed_set = 1234\n",
    "np.random.seed(seed_set)\n"
   ]
  },
  {
   "cell_type": "markdown",
   "metadata": {},
   "source": [
    "## Import Data"
   ]
  },
  {
   "cell_type": "code",
   "execution_count": 2,
   "metadata": {},
   "outputs": [
    {
     "data": {
      "text/html": [
       "<div>\n",
       "<style>\n",
       "    .dataframe thead tr:only-child th {\n",
       "        text-align: right;\n",
       "    }\n",
       "\n",
       "    .dataframe thead th {\n",
       "        text-align: left;\n",
       "    }\n",
       "\n",
       "    .dataframe tbody tr th {\n",
       "        vertical-align: top;\n",
       "    }\n",
       "</style>\n",
       "<table border=\"1\" class=\"dataframe\">\n",
       "  <thead>\n",
       "    <tr style=\"text-align: right;\">\n",
       "      <th></th>\n",
       "      <th>user</th>\n",
       "      <th>movie_title</th>\n",
       "      <th>rating</th>\n",
       "      <th>genres</th>\n",
       "      <th>timestamp</th>\n",
       "    </tr>\n",
       "  </thead>\n",
       "  <tbody>\n",
       "    <tr>\n",
       "      <th>0</th>\n",
       "      <td>1</td>\n",
       "      <td>Dangerous Minds (1995)</td>\n",
       "      <td>2.5</td>\n",
       "      <td>Drama</td>\n",
       "      <td>1260759144</td>\n",
       "    </tr>\n",
       "    <tr>\n",
       "      <th>1</th>\n",
       "      <td>7</td>\n",
       "      <td>Dangerous Minds (1995)</td>\n",
       "      <td>3.0</td>\n",
       "      <td>Drama</td>\n",
       "      <td>851868750</td>\n",
       "    </tr>\n",
       "    <tr>\n",
       "      <th>2</th>\n",
       "      <td>31</td>\n",
       "      <td>Dangerous Minds (1995)</td>\n",
       "      <td>4.0</td>\n",
       "      <td>Drama</td>\n",
       "      <td>1273541953</td>\n",
       "    </tr>\n",
       "    <tr>\n",
       "      <th>3</th>\n",
       "      <td>32</td>\n",
       "      <td>Dangerous Minds (1995)</td>\n",
       "      <td>4.0</td>\n",
       "      <td>Drama</td>\n",
       "      <td>834828440</td>\n",
       "    </tr>\n",
       "    <tr>\n",
       "      <th>4</th>\n",
       "      <td>36</td>\n",
       "      <td>Dangerous Minds (1995)</td>\n",
       "      <td>3.0</td>\n",
       "      <td>Drama</td>\n",
       "      <td>847057202</td>\n",
       "    </tr>\n",
       "  </tbody>\n",
       "</table>\n",
       "</div>"
      ],
      "text/plain": [
       "   user             movie_title  rating genres   timestamp\n",
       "0     1  Dangerous Minds (1995)     2.5  Drama  1260759144\n",
       "1     7  Dangerous Minds (1995)     3.0  Drama   851868750\n",
       "2    31  Dangerous Minds (1995)     4.0  Drama  1273541953\n",
       "3    32  Dangerous Minds (1995)     4.0  Drama   834828440\n",
       "4    36  Dangerous Minds (1995)     3.0  Drama   847057202"
      ]
     },
     "execution_count": 2,
     "metadata": {},
     "output_type": "execute_result"
    }
   ],
   "source": [
    "df_rating = pd.read_csv('data.csv')\n",
    "df_rating.head(5)"
   ]
  },
  {
   "cell_type": "code",
   "execution_count": 3,
   "metadata": {},
   "outputs": [
    {
     "data": {
      "text/plain": [
       "(100003, 7)"
      ]
     },
     "execution_count": 3,
     "metadata": {},
     "output_type": "execute_result"
    },
    {
     "data": {
      "text/html": [
       "<div>\n",
       "<style>\n",
       "    .dataframe thead tr:only-child th {\n",
       "        text-align: right;\n",
       "    }\n",
       "\n",
       "    .dataframe thead th {\n",
       "        text-align: left;\n",
       "    }\n",
       "\n",
       "    .dataframe tbody tr th {\n",
       "        vertical-align: top;\n",
       "    }\n",
       "</style>\n",
       "<table border=\"1\" class=\"dataframe\">\n",
       "  <thead>\n",
       "    <tr style=\"text-align: right;\">\n",
       "      <th></th>\n",
       "      <th>user</th>\n",
       "      <th>movie_title</th>\n",
       "      <th>rating</th>\n",
       "      <th>genres</th>\n",
       "      <th>timestamp</th>\n",
       "      <th>user_id</th>\n",
       "      <th>movie_id</th>\n",
       "    </tr>\n",
       "  </thead>\n",
       "  <tbody>\n",
       "    <tr>\n",
       "      <th>0</th>\n",
       "      <td>1</td>\n",
       "      <td>Dangerous Minds (1995)</td>\n",
       "      <td>2.5</td>\n",
       "      <td>Drama</td>\n",
       "      <td>1260759144</td>\n",
       "      <td>0</td>\n",
       "      <td>1976</td>\n",
       "    </tr>\n",
       "    <tr>\n",
       "      <th>1</th>\n",
       "      <td>7</td>\n",
       "      <td>Dangerous Minds (1995)</td>\n",
       "      <td>3.0</td>\n",
       "      <td>Drama</td>\n",
       "      <td>851868750</td>\n",
       "      <td>6</td>\n",
       "      <td>1976</td>\n",
       "    </tr>\n",
       "    <tr>\n",
       "      <th>2</th>\n",
       "      <td>31</td>\n",
       "      <td>Dangerous Minds (1995)</td>\n",
       "      <td>4.0</td>\n",
       "      <td>Drama</td>\n",
       "      <td>1273541953</td>\n",
       "      <td>30</td>\n",
       "      <td>1976</td>\n",
       "    </tr>\n",
       "    <tr>\n",
       "      <th>3</th>\n",
       "      <td>32</td>\n",
       "      <td>Dangerous Minds (1995)</td>\n",
       "      <td>4.0</td>\n",
       "      <td>Drama</td>\n",
       "      <td>834828440</td>\n",
       "      <td>31</td>\n",
       "      <td>1976</td>\n",
       "    </tr>\n",
       "    <tr>\n",
       "      <th>4</th>\n",
       "      <td>36</td>\n",
       "      <td>Dangerous Minds (1995)</td>\n",
       "      <td>3.0</td>\n",
       "      <td>Drama</td>\n",
       "      <td>847057202</td>\n",
       "      <td>35</td>\n",
       "      <td>1976</td>\n",
       "    </tr>\n",
       "  </tbody>\n",
       "</table>\n",
       "</div>"
      ],
      "text/plain": [
       "   user             movie_title  rating genres   timestamp  user_id  movie_id\n",
       "0     1  Dangerous Minds (1995)     2.5  Drama  1260759144        0      1976\n",
       "1     7  Dangerous Minds (1995)     3.0  Drama   851868750        6      1976\n",
       "2    31  Dangerous Minds (1995)     4.0  Drama  1273541953       30      1976\n",
       "3    32  Dangerous Minds (1995)     4.0  Drama   834828440       31      1976\n",
       "4    36  Dangerous Minds (1995)     3.0  Drama   847057202       35      1976"
      ]
     },
     "execution_count": 3,
     "metadata": {},
     "output_type": "execute_result"
    }
   ],
   "source": [
    "# process data\n",
    "\n",
    "user_encoder = LabelEncoder()\n",
    "df_rating['user_id'] = user_encoder.fit_transform(df_rating['user'].values)\n",
    "\n",
    "movie_encoder = LabelEncoder()\n",
    "df_rating['movie_id'] = user_encoder.fit_transform(df_rating['movie_title'].values)\n",
    "\n",
    "# drop dups\n",
    "df_rating = df_rating.drop_duplicates(['user_id','movie_id'])\n",
    "df_rating.shape\n",
    "df_rating.head(5)"
   ]
  },
  {
   "cell_type": "code",
   "execution_count": 4,
   "metadata": {},
   "outputs": [
    {
     "name": "stdout",
     "output_type": "stream",
     "text": [
      "557 unique users in train\n",
      "Train sparsity: 1.82%\n",
      "137 unique users in test\n",
      "Test sparsity: 2.43%\n"
     ]
    }
   ],
   "source": [
    "# split the train and test \n",
    "# params \n",
    "# split_count: int. Number of user-item-ratings per user to move from training to test set.\n",
    "# threshold: int, set the minimin number of items that test has hold\n",
    "# fractions : float. Fraction of users to split off some of their interactions into test set. \n",
    "#            If None, then all users are considered.\n",
    "\n",
    "x_col = {'user':'user_id','item':'movie_id','rate':'rating'}\n",
    "df_train, df_test = TrainTestSplit(df_rating,x_col,\n",
    "                                   split_count = 100,threshold = 200, fraction = None,\n",
    "                                   verbose=1)\n",
    "\n",
    "# remove dups\n",
    "df_train = df_train.drop_duplicates(['user_id','movie_id'])\n",
    "df_test = df_test.drop_duplicates(['user_id','movie_id'])\n"
   ]
  },
  {
   "cell_type": "markdown",
   "metadata": {},
   "source": [
    "## Build Model(SGD)"
   ]
  },
  {
   "cell_type": "code",
   "execution_count": 5,
   "metadata": {},
   "outputs": [
    {
     "data": {
      "text/plain": [
       "<yarst.model.stochastic_gradient_descent.StochasticGradientDescent instance at 0x7f1d69f277e8>"
      ]
     },
     "execution_count": 5,
     "metadata": {},
     "output_type": "execute_result"
    }
   ],
   "source": [
    "# build the sgd, components is hidden factor number\n",
    "sgd = StochasticGradientDescent(components=100)\n",
    "\n",
    "#fit the data via df_train\n",
    "x_col_dict = {'user':'user_id','item':'movie_id'}\n",
    "y_col_dict = {'rate':'rating'}\n",
    "sgd.fit(df_train,x_col_dict,y_col_dict)"
   ]
  },
  {
   "cell_type": "code",
   "execution_count": 6,
   "metadata": {},
   "outputs": [
    {
     "name": "stdout",
     "output_type": "stream",
     "text": [
      "model built via StochasticGradientDescent\n",
      "epochs:10,learning_rate:0.01,shuffle:True\n",
      "reg_user:0.01,reg_item:0.01,reg_bias_user:0.01,reg_bias_item:0.01\n"
     ]
    },
    {
     "name": "stderr",
     "output_type": "stream",
     "text": [
      "100%|██████████| 10/10 [00:19<00:00,  1.97s/it]\n"
     ]
    },
    {
     "data": {
      "text/plain": [
       "<yarst.model.recommender.Recommender instance at 0x7f1d69f0dd88>"
      ]
     },
     "execution_count": 6,
     "metadata": {},
     "output_type": "execute_result"
    }
   ],
   "source": [
    "# build recommender to train model\n",
    "# learning_rate: learning rate\n",
    "# epochs: epochs\n",
    "# shuffle: whether shuffle the data order \n",
    "# reg_user,reg_item: regularize of use/item\n",
    "# reg_bias_user, reg_bias_item: regularize of use/item bias\n",
    "\n",
    "recommender_sgd = Recommender(sgd)\n",
    "\n",
    "recommender_sgd.fit(df_train,\n",
    "                    epochs=10,learning_rate=0.01,\n",
    "                    shuffle=True,\n",
    "                    reg_user=0.01,reg_item=0.01,\n",
    "                    reg_bias_user=0.01,reg_bias_item=0.01,\n",
    "                    verbose=1)"
   ]
  },
  {
   "cell_type": "code",
   "execution_count": 7,
   "metadata": {},
   "outputs": [
    {
     "data": {
      "text/plain": [
       "{'mean_absolute_error': 0.78931707770322834,\n",
       " 'mean_squared_error': 0.98205753617791436}"
      ]
     },
     "execution_count": 7,
     "metadata": {},
     "output_type": "execute_result"
    }
   ],
   "source": [
    "# evaluate the df_test\n",
    "recommender_sgd.evaluate(df_test,metrics = [mae(),mse()])"
   ]
  },
  {
   "cell_type": "code",
   "execution_count": 8,
   "metadata": {
    "scrolled": true
   },
   "outputs": [
    {
     "name": "stdout",
     "output_type": "stream",
     "text": [
      "model built via StochasticGradientDescent\n"
     ]
    },
    {
     "data": {
      "text/plain": [
       "<yarst.model.recommender.Recommender instance at 0x7f1d69f27f38>"
      ]
     },
     "execution_count": 8,
     "metadata": {},
     "output_type": "execute_result"
    },
    {
     "data": {
      "text/plain": [
       "<yarst.model.recommender.Recommender instance at 0x7f1d69f27f38>"
      ]
     },
     "execution_count": 8,
     "metadata": {},
     "output_type": "execute_result"
    }
   ],
   "source": [
    "# or use various learning_rate to train model\n",
    "\n",
    "recommender_sgd = Recommender(sgd)\n",
    "\n",
    "recommender_sgd.fit(df_train,epochs=3,learning_rate=0.01,verbose=0)\n",
    "recommender_sgd.fit(df_train,epochs=7,learning_rate=0.001,verbose=0)"
   ]
  },
  {
   "cell_type": "code",
   "execution_count": 9,
   "metadata": {
    "scrolled": true
   },
   "outputs": [
    {
     "data": {
      "text/plain": [
       "{'mean_absolute_error': 0.76145355673237169,\n",
       " 'mean_squared_error': 0.92423536815545637}"
      ]
     },
     "execution_count": 9,
     "metadata": {},
     "output_type": "execute_result"
    }
   ],
   "source": [
    "# with same epochs, the result is bit better\n",
    "recommender_sgd.evaluate(df_test,metrics = [mae(),mse()])"
   ]
  },
  {
   "cell_type": "code",
   "execution_count": 10,
   "metadata": {},
   "outputs": [
    {
     "data": {
      "text/html": [
       "<div>\n",
       "<style>\n",
       "    .dataframe thead tr:only-child th {\n",
       "        text-align: right;\n",
       "    }\n",
       "\n",
       "    .dataframe thead th {\n",
       "        text-align: left;\n",
       "    }\n",
       "\n",
       "    .dataframe tbody tr th {\n",
       "        vertical-align: top;\n",
       "    }\n",
       "</style>\n",
       "<table border=\"1\" class=\"dataframe\">\n",
       "  <thead>\n",
       "    <tr style=\"text-align: right;\">\n",
       "      <th></th>\n",
       "      <th>user_id</th>\n",
       "      <th>movie_id</th>\n",
       "      <th>rating</th>\n",
       "      <th>prediction</th>\n",
       "    </tr>\n",
       "  </thead>\n",
       "  <tbody>\n",
       "    <tr>\n",
       "      <th>0</th>\n",
       "      <td>22</td>\n",
       "      <td>5</td>\n",
       "      <td>3.0</td>\n",
       "      <td>3.704309</td>\n",
       "    </tr>\n",
       "    <tr>\n",
       "      <th>1</th>\n",
       "      <td>63</td>\n",
       "      <td>5</td>\n",
       "      <td>4.5</td>\n",
       "      <td>3.485385</td>\n",
       "    </tr>\n",
       "    <tr>\n",
       "      <th>2</th>\n",
       "      <td>114</td>\n",
       "      <td>6</td>\n",
       "      <td>5.0</td>\n",
       "      <td>4.217211</td>\n",
       "    </tr>\n",
       "    <tr>\n",
       "      <th>3</th>\n",
       "      <td>48</td>\n",
       "      <td>7</td>\n",
       "      <td>1.5</td>\n",
       "      <td>2.848711</td>\n",
       "    </tr>\n",
       "    <tr>\n",
       "      <th>4</th>\n",
       "      <td>51</td>\n",
       "      <td>7</td>\n",
       "      <td>4.5</td>\n",
       "      <td>4.169334</td>\n",
       "    </tr>\n",
       "  </tbody>\n",
       "</table>\n",
       "</div>"
      ],
      "text/plain": [
       "   user_id movie_id  rating  prediction\n",
       "0       22        5     3.0    3.704309\n",
       "1       63        5     4.5    3.485385\n",
       "2      114        6     5.0    4.217211\n",
       "3       48        7     1.5    2.848711\n",
       "4       51        7     4.5    4.169334"
      ]
     },
     "execution_count": 10,
     "metadata": {},
     "output_type": "execute_result"
    }
   ],
   "source": [
    "# once model is trained, predict score for new pop\n",
    "\n",
    "pred = recommender_sgd.predict(df_test)\n",
    "pred.head(5)"
   ]
  },
  {
   "cell_type": "markdown",
   "metadata": {},
   "source": [
    "## Build Model(ALS)"
   ]
  },
  {
   "cell_type": "code",
   "execution_count": 11,
   "metadata": {},
   "outputs": [
    {
     "data": {
      "text/plain": [
       "<yarst.model.alternating_least_square.AlternatingLeastSquare instance at 0x7f1d69ecdb90>"
      ]
     },
     "execution_count": 11,
     "metadata": {},
     "output_type": "execute_result"
    }
   ],
   "source": [
    "# build the sgd, components is hidden factor number\n",
    "als = AlternatingLeastSquare(components=100)\n",
    "\n",
    "#fit the data via df_rating\n",
    "x_col_dict = {'user':'user_id','item':'movie_id'}\n",
    "y_col_dict = {'rate':'rating'}\n",
    "als.fit(df_train,x_col_dict,y_col_dict)"
   ]
  },
  {
   "cell_type": "code",
   "execution_count": 12,
   "metadata": {},
   "outputs": [
    {
     "name": "stderr",
     "output_type": "stream",
     "text": [
      "\r",
      "  0%|          | 0/2 [00:00<?, ?it/s]"
     ]
    },
    {
     "name": "stdout",
     "output_type": "stream",
     "text": [
      "model built via AlternatingLeastSquare\n",
      "epochs:2,reg_user:0.01,reg_item:0.01\n"
     ]
    },
    {
     "name": "stderr",
     "output_type": "stream",
     "text": [
      "100%|██████████| 2/2 [00:12<00:00,  6.11s/it]\n"
     ]
    },
    {
     "data": {
      "text/plain": [
       "<yarst.model.recommender.Recommender instance at 0x7f1d69efc950>"
      ]
     },
     "execution_count": 12,
     "metadata": {},
     "output_type": "execute_result"
    }
   ],
   "source": [
    "# build recommender to train model\n",
    "# epochs: epochs\n",
    "# reg_user,reg_item: regularize of use/item\n",
    "\n",
    "recommender_als = Recommender(als)\n",
    "recommender_als.fit(df_train,epochs=2,reg_user=0.01,reg_item=0.01,verbose=1)"
   ]
  },
  {
   "cell_type": "code",
   "execution_count": 13,
   "metadata": {},
   "outputs": [
    {
     "data": {
      "text/plain": [
       "{'mean_absolute_error': 3.4419453256951886,\n",
       " 'mean_squared_error': 13.201477968175322}"
      ]
     },
     "execution_count": 13,
     "metadata": {},
     "output_type": "execute_result"
    }
   ],
   "source": [
    "# evaluate the df_test\n",
    "recommender_als.evaluate(df_test,metrics = [mae(),mse()])"
   ]
  },
  {
   "cell_type": "code",
   "execution_count": 14,
   "metadata": {},
   "outputs": [
    {
     "data": {
      "text/html": [
       "<div>\n",
       "<style>\n",
       "    .dataframe thead tr:only-child th {\n",
       "        text-align: right;\n",
       "    }\n",
       "\n",
       "    .dataframe thead th {\n",
       "        text-align: left;\n",
       "    }\n",
       "\n",
       "    .dataframe tbody tr th {\n",
       "        vertical-align: top;\n",
       "    }\n",
       "</style>\n",
       "<table border=\"1\" class=\"dataframe\">\n",
       "  <thead>\n",
       "    <tr style=\"text-align: right;\">\n",
       "      <th></th>\n",
       "      <th>user_id</th>\n",
       "      <th>movie_id</th>\n",
       "      <th>rating</th>\n",
       "      <th>prediction</th>\n",
       "    </tr>\n",
       "  </thead>\n",
       "  <tbody>\n",
       "    <tr>\n",
       "      <th>0</th>\n",
       "      <td>22</td>\n",
       "      <td>5</td>\n",
       "      <td>3.0</td>\n",
       "      <td>0.291570</td>\n",
       "    </tr>\n",
       "    <tr>\n",
       "      <th>1</th>\n",
       "      <td>63</td>\n",
       "      <td>5</td>\n",
       "      <td>4.5</td>\n",
       "      <td>0.128462</td>\n",
       "    </tr>\n",
       "    <tr>\n",
       "      <th>2</th>\n",
       "      <td>114</td>\n",
       "      <td>6</td>\n",
       "      <td>5.0</td>\n",
       "      <td>0.084008</td>\n",
       "    </tr>\n",
       "    <tr>\n",
       "      <th>3</th>\n",
       "      <td>48</td>\n",
       "      <td>7</td>\n",
       "      <td>1.5</td>\n",
       "      <td>0.150978</td>\n",
       "    </tr>\n",
       "    <tr>\n",
       "      <th>4</th>\n",
       "      <td>51</td>\n",
       "      <td>7</td>\n",
       "      <td>4.5</td>\n",
       "      <td>0.682083</td>\n",
       "    </tr>\n",
       "  </tbody>\n",
       "</table>\n",
       "</div>"
      ],
      "text/plain": [
       "   user_id movie_id  rating  prediction\n",
       "0       22        5     3.0    0.291570\n",
       "1       63        5     4.5    0.128462\n",
       "2      114        6     5.0    0.084008\n",
       "3       48        7     1.5    0.150978\n",
       "4       51        7     4.5    0.682083"
      ]
     },
     "execution_count": 14,
     "metadata": {},
     "output_type": "execute_result"
    }
   ],
   "source": [
    "pred = recommender_als.predict(df_test)\n",
    "pred.head(5)"
   ]
  },
  {
   "cell_type": "markdown",
   "metadata": {},
   "source": [
    "## Build Model(CF)"
   ]
  },
  {
   "cell_type": "code",
   "execution_count": 15,
   "metadata": {},
   "outputs": [
    {
     "data": {
      "text/plain": [
       "<yarst.model.collaborative_filtering.CollaborativeFiltering instance at 0x7f1d69f2a1b8>"
      ]
     },
     "execution_count": 15,
     "metadata": {},
     "output_type": "execute_result"
    }
   ],
   "source": [
    "cf = CollaborativeFiltering(use_attribute=False,cold_start=False)\n",
    "x_col_dict = {'user':'user_id','item':'movie_id'}\n",
    "y_col_dict = {'rate':'rating'}\n",
    "cf.fit(df_train,x_col_dict,y_col_dict)"
   ]
  },
  {
   "cell_type": "markdown",
   "metadata": {},
   "source": [
    "### CollaborativeFiltering params\n",
    "\n",
    "##### similarity_type: string\n",
    "- rate: use rating only to calculate the similarity\n",
    "- attribute: use attribute only to calculate the similarity\n",
    "- hyrbid: use rate and attribute together to calculate the similarity\n",
    "\n",
    "##### rate_similarity_metric: string, \n",
    "    how to calculate the similarity of rate,\n",
    "    ref: http://scikit-learn.org/stable/modules/generated/sklearn.metrics.pairwise.pairwise_distances.html\n",
    "    \n",
    "##### rate_similarity_max_from_train: boolean, \n",
    "    whether get the max value of rate similarity from the train, or the max value is 1\n",
    "##### rate_similarity_scale: string, \n",
    "    how to scale the similarity\n",
    "- nochange: no change\n",
    "- rescale: rescale similarity to [0,1]\n",
    "- abs: absolute similarity   \n",
    "    \n",
    "##### use_bias: boolean, \n",
    "    use bias or not\n",
    "##### bias_type: string\n",
    "- user: rating subtract the user based bias \n",
    "- item: rating subtract the item based bias\n",
    "- hyrbid: ratings subtract item and user based bias\n",
    "- zscore: rating subtract the user based bias and devided by user-based standard devation"
   ]
  },
  {
   "cell_type": "code",
   "execution_count": 16,
   "metadata": {},
   "outputs": [
    {
     "name": "stdout",
     "output_type": "stream",
     "text": [
      "model built via CollaborativeFiltering\n",
      "similarity_type:rate\n",
      "rate_similarity_metric:cosine,\n",
      "rate_similarity_max_from_train:True\n",
      "rate_similarity_scale:rescale\n",
      "attr_similarity_metric:cosine\n",
      "attr_similarity_max_from_train:False\n",
      "attr_similarity_scale:nochange\n",
      "similarity_weight:0.5\n",
      "use_bias:True,bias_type:user\n",
      "num_threads:1\n"
     ]
    },
    {
     "data": {
      "text/plain": [
       "<yarst.model.recommender.Recommender instance at 0x7f1d69ef4098>"
      ]
     },
     "execution_count": 16,
     "metadata": {},
     "output_type": "execute_result"
    }
   ],
   "source": [
    "recommender_cf = Recommender(cf)\n",
    "recommender_cf.fit(df_train,            \n",
    "                   similarity_type='rate',\n",
    "                   rate_similarity_metric='cosine',\n",
    "                   rate_similarity_max_from_train=True,\n",
    "                   rate_similarity_scale = 'rescale',\n",
    "                   use_bias = True,\n",
    "                   bias_type = 'user')"
   ]
  },
  {
   "cell_type": "code",
   "execution_count": 17,
   "metadata": {},
   "outputs": [
    {
     "name": "stdout",
     "output_type": "stream",
     "text": [
      "predict_method:baseline\n",
      "k:100\n"
     ]
    },
    {
     "data": {
      "text/plain": [
       "{'mean_absolute_error': 1.0400748809444669,\n",
       " 'mean_squared_error': 1.746657716375553}"
      ]
     },
     "execution_count": 17,
     "metadata": {},
     "output_type": "execute_result"
    }
   ],
   "source": [
    "# evaluate the df_test\n",
    "# predict_method: string, hwo to get the prediction\n",
    "#   - topk_wtd: seach the k nearest neighbours and get the predicitons weigthed by similarity \n",
    "#   - topk_ave: seach the k nearest neighbours and get the predicitons by average\n",
    "#   - topk_avedev: user'mean + simple average of neighbours' centered rating\n",
    "#   - topk_avezscore: user'mean +user std * simple average of neighbours z-score rating\n",
    "#   - baseline_withbias: ratings are subtracted based on the bias_type, prediciton is weighted average of all users\n",
    "#   - hyrbid: nobias for topk neighbours \n",
    "#   - baseline: predicitons is mean of all users\n",
    "# k: int,\n",
    "\n",
    "recommender_cf.evaluate(df_test,metrics = [mae(),mse()],k=100,predict_method='baseline')"
   ]
  },
  {
   "cell_type": "code",
   "execution_count": 18,
   "metadata": {},
   "outputs": [
    {
     "name": "stdout",
     "output_type": "stream",
     "text": [
      "predict_method:topk_wtd\n",
      "k:50\n"
     ]
    },
    {
     "data": {
      "text/html": [
       "<div>\n",
       "<style>\n",
       "    .dataframe thead tr:only-child th {\n",
       "        text-align: right;\n",
       "    }\n",
       "\n",
       "    .dataframe thead th {\n",
       "        text-align: left;\n",
       "    }\n",
       "\n",
       "    .dataframe tbody tr th {\n",
       "        vertical-align: top;\n",
       "    }\n",
       "</style>\n",
       "<table border=\"1\" class=\"dataframe\">\n",
       "  <thead>\n",
       "    <tr style=\"text-align: right;\">\n",
       "      <th></th>\n",
       "      <th>user_id</th>\n",
       "      <th>movie_id</th>\n",
       "      <th>rating</th>\n",
       "      <th>prediction</th>\n",
       "    </tr>\n",
       "  </thead>\n",
       "  <tbody>\n",
       "    <tr>\n",
       "      <th>0</th>\n",
       "      <td>22</td>\n",
       "      <td>5</td>\n",
       "      <td>3.0</td>\n",
       "      <td>2.981053</td>\n",
       "    </tr>\n",
       "    <tr>\n",
       "      <th>1</th>\n",
       "      <td>63</td>\n",
       "      <td>5</td>\n",
       "      <td>4.5</td>\n",
       "      <td>2.941319</td>\n",
       "    </tr>\n",
       "    <tr>\n",
       "      <th>2</th>\n",
       "      <td>114</td>\n",
       "      <td>6</td>\n",
       "      <td>5.0</td>\n",
       "      <td>5.000000</td>\n",
       "    </tr>\n",
       "    <tr>\n",
       "      <th>3</th>\n",
       "      <td>48</td>\n",
       "      <td>7</td>\n",
       "      <td>1.5</td>\n",
       "      <td>3.751776</td>\n",
       "    </tr>\n",
       "    <tr>\n",
       "      <th>4</th>\n",
       "      <td>51</td>\n",
       "      <td>7</td>\n",
       "      <td>4.5</td>\n",
       "      <td>3.806451</td>\n",
       "    </tr>\n",
       "  </tbody>\n",
       "</table>\n",
       "</div>"
      ],
      "text/plain": [
       "   user_id movie_id  rating  prediction\n",
       "0       22        5     3.0    2.981053\n",
       "1       63        5     4.5    2.941319\n",
       "2      114        6     5.0    5.000000\n",
       "3       48        7     1.5    3.751776\n",
       "4       51        7     4.5    3.806451"
      ]
     },
     "execution_count": 18,
     "metadata": {},
     "output_type": "execute_result"
    }
   ],
   "source": [
    "pred = recommender_cf.predict(df_test)\n",
    "pred.head(5)"
   ]
  }
 ],
 "metadata": {
  "kernelspec": {
   "display_name": "Python 2",
   "language": "python",
   "name": "python2"
  },
  "language_info": {
   "codemirror_mode": {
    "name": "ipython",
    "version": 2
   },
   "file_extension": ".py",
   "mimetype": "text/x-python",
   "name": "python",
   "nbconvert_exporter": "python",
   "pygments_lexer": "ipython2",
   "version": "2.7.13"
  }
 },
 "nbformat": 4,
 "nbformat_minor": 2
}
